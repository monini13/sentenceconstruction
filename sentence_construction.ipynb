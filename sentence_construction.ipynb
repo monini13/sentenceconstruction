{
 "cells": [
  {
   "cell_type": "code",
   "execution_count": 0,
   "metadata": {
    "colab": {
     "base_uri": "https://localhost:8080/",
     "height": 306
    },
    "colab_type": "code",
    "executionInfo": {
     "elapsed": 5164,
     "status": "ok",
     "timestamp": 1586347678987,
     "user": {
      "displayName": "Joseph Chan",
      "photoUrl": "",
      "userId": "02789172635000354089"
     },
     "user_tz": -480
    },
    "id": "R7frMtAlx1Bh",
    "outputId": "6aea3776-c143-4ded-c0af-87a118d1ce4c"
   },
   "outputs": [
    {
     "name": "stdout",
     "output_type": "stream",
     "text": [
      "Wed Apr  8 12:07:56 2020       \n",
      "+-----------------------------------------------------------------------------+\n",
      "| NVIDIA-SMI 440.64.00    Driver Version: 418.67       CUDA Version: 10.1     |\n",
      "|-------------------------------+----------------------+----------------------+\n",
      "| GPU  Name        Persistence-M| Bus-Id        Disp.A | Volatile Uncorr. ECC |\n",
      "| Fan  Temp  Perf  Pwr:Usage/Cap|         Memory-Usage | GPU-Util  Compute M. |\n",
      "|===============================+======================+======================|\n",
      "|   0  Tesla T4            Off  | 00000000:00:04.0 Off |                    0 |\n",
      "| N/A   66C    P8    12W /  70W |      0MiB / 15079MiB |      0%      Default |\n",
      "+-------------------------------+----------------------+----------------------+\n",
      "                                                                               \n",
      "+-----------------------------------------------------------------------------+\n",
      "| Processes:                                                       GPU Memory |\n",
      "|  GPU       PID   Type   Process name                             Usage      |\n",
      "|=============================================================================|\n",
      "|  No running processes found                                                 |\n",
      "+-----------------------------------------------------------------------------+\n"
     ]
    }
   ],
   "source": [
    "!nvidia-smi"
   ]
  },
  {
   "cell_type": "code",
   "execution_count": 0,
   "metadata": {
    "colab": {
     "base_uri": "https://localhost:8080/",
     "height": 34
    },
    "colab_type": "code",
    "executionInfo": {
     "elapsed": 5147,
     "status": "ok",
     "timestamp": 1586347678988,
     "user": {
      "displayName": "Joseph Chan",
      "photoUrl": "",
      "userId": "02789172635000354089"
     },
     "user_tz": -480
    },
    "id": "rRMpxg5tasVK",
    "outputId": "dc17d5f7-3e9c-41f6-9687-9cbe91efa285"
   },
   "outputs": [
    {
     "name": "stdout",
     "output_type": "stream",
     "text": [
      "Drive already mounted at /content/gdrive; to attempt to forcibly remount, call drive.mount(\"/content/gdrive\", force_remount=True).\n"
     ]
    }
   ],
   "source": [
    "from google.colab import drive\n",
    "drive.mount('/content/gdrive')"
   ]
  },
  {
   "cell_type": "code",
   "execution_count": 0,
   "metadata": {
    "colab": {},
    "colab_type": "code",
    "id": "m9Eru_qQfO2B"
   },
   "outputs": [],
   "source": [
    "%matplotlib inline"
   ]
  },
  {
   "cell_type": "code",
   "execution_count": 0,
   "metadata": {
    "colab": {},
    "colab_type": "code",
    "id": "QE_NbeJueJbx"
   },
   "outputs": [],
   "source": [
    "from __future__ import unicode_literals, print_function, division\n",
    "from io import open\n",
    "import glob\n",
    "import os\n",
    "import unicodedata\n",
    "import string\n",
    "from torch.utils.data import DataLoader, Dataset\n",
    "from torch import nn\n",
    "import random\n",
    "import csv\n",
    "import torch\n",
    "import torch.backends.cudnn as cudnn\n",
    "cudnn.benchmark = False\n",
    "import time\n",
    "import math\n",
    "from torch.nn.utils.rnn import pad_sequence\n",
    "import matplotlib.pyplot as plt"
   ]
  },
  {
   "cell_type": "code",
   "execution_count": 0,
   "metadata": {
    "colab": {},
    "colab_type": "code",
    "id": "JowBU93YvRks"
   },
   "outputs": [],
   "source": [
    "def timeSince(since):\n",
    "    now = time.time()\n",
    "    s = now - since\n",
    "    m = math.floor(s / 60)\n",
    "    s -= m * 60\n",
    "    return '%dm %ds' % (m, s)"
   ]
  },
  {
   "cell_type": "code",
   "execution_count": 0,
   "metadata": {
    "colab": {},
    "colab_type": "code",
    "id": "WMDw41VHfLlv"
   },
   "outputs": [],
   "source": [
    "class Data(Dataset):\n",
    "\n",
    "    def __init__(self,location,train=True): \n",
    "\n",
    "        self.all_letters = string.ascii_letters + \"0123456789 .,:!?'[]()/+-=\"\n",
    "        self.n_letters = len(self.all_letters) + 1 # Plus EOS marker\n",
    "\n",
    "        # Build the category_lines dictionary, a list of lines per category\n",
    "        self.category_lines,self.all_categories, self.max_len= self.get_data(location)\n",
    "        self.n_categories = len(self.all_categories)\n",
    "        random.seed(0)\n",
    "        random.shuffle(self.category_lines['st'])\n",
    "        self.data=[]\n",
    "        cut = int(0.8*len(self.category_lines['st']))\n",
    "        if train:\n",
    "            self.data=[i for i in self.category_lines['st'][:cut]]\n",
    "        else:\n",
    "            self.data=[i for i in self.category_lines['st'][cut:]]\n",
    "    \n",
    "    def __getitem__(self, idx):\n",
    "        line = self.data[idx]\n",
    "        input_line_tensor = self.inputTensor(line)\n",
    "        target_line_tensor = self.targetTensor(line)\n",
    "        if torch.cuda.is_available():\n",
    "            return input_line_tensor.cuda(), target_line_tensor.cuda()\n",
    "        else:\n",
    "            return input_line_tensor, target_line_tensor\n",
    "    \n",
    "    def __len__(self):\n",
    "      return len(self.data)\n",
    "\n",
    "    def get_data(self,location):\n",
    "        category_lines = {}\n",
    "        all_categories = ['st']\n",
    "        category_lines['st']=[]\n",
    "        filterwords=['NEXTEPISODE']\n",
    "        max_len = 0\n",
    "        with open(location, newline='') as csvfile:\n",
    "            reader = csv.reader(csvfile, delimiter=',', quotechar='\"')\n",
    "            for row in reader:\n",
    "                for el in row:\n",
    "                    if (el not in filterwords) and (len(el)>1):\n",
    "                        v=el.strip().replace(\";\",\"\").replace('\\\"','')\n",
    "                        category_lines['st'].append(v)\n",
    "                        if len(v)>max_len:\n",
    "                            max_len = len(v)\n",
    "                        # try:\n",
    "                        #     if v[0].isupper() and v[0] != 'Q' and v[0] != 'X' and v[1].isupper():\n",
    "                        #         category_lines['st'].append(v)\n",
    "                        # except:\n",
    "                        #     pass\n",
    "\n",
    "        n_categories = len(all_categories)\n",
    "        return category_lines,all_categories,max_len\n",
    "\n",
    "\n",
    "    def findFiles(self,path): return glob.glob(path)\n",
    "\n",
    "    # Turn a Unicode string to plain ASCII, thanks to https://stackoverflow.com/a/518232/2809427\n",
    "    def unicodeToAscii(self,s):\n",
    "        return ''.join(\n",
    "            c for c in unicodedata.normalize('NFD', s)\n",
    "            if unicodedata.category(c) != 'Mn'\n",
    "            and c in self.all_letters\n",
    "        )\n",
    "\n",
    "    # Read a file and split into lines\n",
    "    def readLines(self,filename):\n",
    "        lines = open(filename, encoding='utf-8').read().strip().split('\\n')\n",
    "        return [self.unicodeToAscii(line) for line in lines]\n",
    "\n",
    "    # One-hot vector for category\n",
    "    def categoryTensor(self,category):\n",
    "        li = self.all_categories.index(category)\n",
    "        tensor = torch.zeros(1, self.n_categories)\n",
    "        tensor[0][li] = 1\n",
    "        return tensor\n",
    "\n",
    "    # One-hot matrix of first to last letters (not including EOS) for input\n",
    "    def inputTensor(self,line):\n",
    "        tensor = torch.zeros(len(line), 1, self.n_letters)\n",
    "        for li in range(len(line)):\n",
    "            letter = line[li]\n",
    "            tensor[li][0][self.all_letters.find(letter)] = 1\n",
    "        # for li in range(len(line),self.max_len):\n",
    "        #     tensor[li][0][self.n_letters - 1] = 1       # Pad with EOS token\n",
    "        return tensor\n",
    "\n",
    "    # LongTensor of second letter to end (EOS) for target\n",
    "    def targetTensor(self,line):\n",
    "        letter_indexes = [self.all_letters.find(line[li]) for li in range(1, len(line))]\n",
    "        letter_indexes.append(self.n_letters - 1) # EOS\n",
    "        return torch.LongTensor(letter_indexes)\n"
   ]
  },
  {
   "cell_type": "code",
   "execution_count": 0,
   "metadata": {
    "colab": {},
    "colab_type": "code",
    "id": "0psJFXrclwSO"
   },
   "outputs": [],
   "source": [
    "class LSTMNet(nn.Module):\n",
    "    def __init__(self, input_dim, hidden_dim, output_dim, n_layers):\n",
    "        super(LSTMNet, self).__init__()\n",
    "        self.hidden_dim = hidden_dim\n",
    "        self.n_layers = n_layers\n",
    "        \n",
    "        self.lstm = nn.LSTM(input_dim, hidden_dim, n_layers)\n",
    "        self.dropout = nn.Dropout(0.1)\n",
    "        self.fc = nn.Linear(hidden_dim, output_dim)\n",
    "        \n",
    "    def forward(self, x, h):\n",
    "        out, hidden = self.lstm(x, h)\n",
    "        out = self.dropout(out)\n",
    "        out = out.contiguous().view(-1, self.hidden_dim)\n",
    "        out = self.fc(out)\n",
    "        return out, hidden\n",
    "    \n",
    "    def init_hidden(self, batch_size):\n",
    "        weight = next(self.parameters()).data\n",
    "        if torch.cuda.is_available():\n",
    "            hidden = (weight.new(self.n_layers, batch_size, self.hidden_dim).zero_().cuda(),\n",
    "                    weight.new(self.n_layers, batch_size, self.hidden_dim).zero_().cuda())\n",
    "        else:\n",
    "            hidden = (weight.new(self.n_layers, batch_size, self.hidden_dim).zero_(),\n",
    "                    weight.new(self.n_layers, batch_size, self.hidden_dim).zero_())\n",
    "        return hidden"
   ]
  },
  {
   "cell_type": "code",
   "execution_count": 0,
   "metadata": {
    "colab": {},
    "colab_type": "code",
    "id": "et18T8mcR5oL"
   },
   "outputs": [],
   "source": [
    "def pad_collate(batch):\n",
    "    xpad = pad_sequence([datum[0] for datum in batch], padding_value = 0, batch_first=True)\n",
    "    y = pad_sequence([datum[1] for datum in batch], padding_value = 0, batch_first=True)\n",
    "    return [xpad, y]"
   ]
  },
  {
   "cell_type": "code",
   "execution_count": 0,
   "metadata": {
    "colab": {},
    "colab_type": "code",
    "id": "8WWwDeakEhOf"
   },
   "outputs": [],
   "source": [
    "def sample(model,test_set,device,start_letter='S'):\n",
    "    model.eval()\n",
    "    max_length = 100\n",
    "    with torch.no_grad():  # no need to track history in sampling\n",
    "        input = test_set.inputTensor(start_letter).to(device)\n",
    "        hidden = model.init_hidden(1)\n",
    "\n",
    "        sequence = start_letter\n",
    "\n",
    "        for i in range(max_length):\n",
    "            output, hidden = model(input, hidden)\n",
    "            distribution = torch.softmax(torch.div(torch.flatten(output), 0.5), dim=0)\n",
    "            distribution = torch.distributions.multinomial.Multinomial(1, distribution)\n",
    "            samp = distribution.sample()\n",
    "            topi = torch.argmax(samp)\n",
    "            if topi == test_set.n_letters - 1:\n",
    "                break\n",
    "            else:\n",
    "                letter = test_set.all_letters[topi]\n",
    "                sequence += letter\n",
    "            input = test_set.inputTensor(letter).to(device)\n",
    "\n",
    "        return sequence"
   ]
  },
  {
   "cell_type": "code",
   "execution_count": 0,
   "metadata": {
    "colab": {},
    "colab_type": "code",
    "id": "FuawJNyBnFNN"
   },
   "outputs": [],
   "source": [
    "def train(model,criterion,optimizer,input_line_tensor, target_line_tensor):\n",
    "    target_line_tensor.unsqueeze_(-1)\n",
    "    hidden = model.init_hidden(1)\n",
    "    hidden = tuple([e.data for e in hidden])\n",
    "    model.zero_grad()\n",
    "    \n",
    "    loss = 0\n",
    "\n",
    "    for i in range(input_line_tensor.size(0)):\n",
    "        output, hidden = model(input_line_tensor[i], hidden)\n",
    "        l = criterion(output, target_line_tensor[i].flatten())\n",
    "        loss += l\n",
    "\n",
    "    loss.backward()\n",
    "    optimizer.step()\n",
    "\n",
    "    return output, loss.item() / input_line_tensor.size(0)\n",
    "\n",
    "def evaluate(model,criterion,test_loader):\n",
    "    for counter,(input_tensor, target_tensor) in enumerate(test_loader):\n",
    "        target_tensor.unsqueeze_(-1)\n",
    "        hidden = model.init_hidden(1)\n",
    "        hidden = tuple([e.data for e in hidden])\n",
    "        num_correct = 0\n",
    "        total = 0\n",
    "        loss = 0\n",
    "        for i in range(input_tensor.size(0)):\n",
    "            output, hidden = model(input_tensor[i], hidden)\n",
    "            l = criterion(output, target_tensor[i].flatten())\n",
    "            loss += l\n",
    "            output = torch.argmax(output,dim=1)\n",
    "            num_correct += sum(output==target_tensor.flatten()).item()\n",
    "            total += len(output)\n",
    "\n",
    "    return (num_correct/total), loss.item()\n"
   ]
  },
  {
   "cell_type": "code",
   "execution_count": 0,
   "metadata": {
    "colab": {},
    "colab_type": "code",
    "id": "mI87XliS9bdY"
   },
   "outputs": [],
   "source": [
    "def run(): \n",
    "    device = torch.device(\"cuda\" if torch.cuda.is_available() else \"cpu\")\n",
    "    path = \"/content/gdrive/Shared drives/Team Drive/School/Deep Learning/DL_HW6/star_trek_transcripts_all_episodes_f.csv\"\n",
    "    train_set = Data(path, train=True)\n",
    "    test_set = Data(path, train=False)\n",
    "\n",
    "\n",
    "    model = LSTMNet(test_set.n_letters, 100, test_set.n_letters, 2)\n",
    "    model.to(device)\n",
    "    criterion = nn.CrossEntropyLoss()\n",
    "    learning_rate = 0.0005\n",
    "    optimizer = torch.optim.Adam(model.parameters(), lr=learning_rate)\n",
    "    start_letters = \"ABCDEFGHIJKLMNOPRSTUVWZ\"\n",
    "    batch_size=5\n",
    "    train_loader = DataLoader(train_set, batch_size=batch_size, shuffle=True, collate_fn=pad_collate)\n",
    "    test_loader = DataLoader(test_set, batch_size=1, shuffle=True)\n",
    "\n",
    "\n",
    "    n_iters = len(train_set)/batch_size\n",
    "    # print_every = 2000\n",
    "    train_losses = []\n",
    "    test_losses = []\n",
    "    test_accuracies = []\n",
    "    max_acc = 0\n",
    "    # start = time.time()\n",
    "\n",
    "    for epoch in range(20):\n",
    "        print(\"Epoch \", epoch)\n",
    "        total_loss = 0\n",
    "        model.train()\n",
    "        for counter,(input_tensor, target_tensor) in enumerate(train_loader):\n",
    "            output, loss = train(model,criterion,optimizer,input_tensor, target_tensor)\n",
    "            total_loss += loss\n",
    "\n",
    "            # if counter==0:\n",
    "            #     pass\n",
    "            # elif counter % print_every ==0:\n",
    "            #     print(total_loss/(counter+1))\n",
    "            #     print(str(round(counter/n_iters,2))+\"% completed\")\n",
    "        train_losses.append(total_loss/(counter+1))\n",
    "        for idx in range(5):\n",
    "            print(sample(model,test_set,device,random.choice(start_letters)))\n",
    "        model.eval()\n",
    "        test_acc, test_loss = evaluate(model,criterion,test_loader)\n",
    "        test_accuracies.append(test_acc)\n",
    "        test_losses.append(test_loss)\n",
    "        if test_acc > max_acc:\n",
    "            max_acc = test_acc\n",
    "            best_model_wts = model.state_dict()\n",
    "\n",
    "    torch.save(best_model_wts,'/content/gdrive/Shared drives/Team Drive/School/Deep Learning/DL_HW6/model.pt')\n",
    "    plt.plot(train_losses, label = \"Train Loss\")\n",
    "    plt.plot(test_losses, label = \"Test Loss\")\n",
    "    plt.plot(test_accuracies, label = \"Test Accuracy\")\n",
    "    plt.legend()\n",
    "    plt.title(\"Report\")\n",
    "    plt.show()"
   ]
  },
  {
   "cell_type": "code",
   "execution_count": 0,
   "metadata": {
    "colab": {
     "base_uri": "https://localhost:8080/",
     "height": 1000
    },
    "colab_type": "code",
    "executionInfo": {
     "elapsed": 4576940,
     "status": "ok",
     "timestamp": 1586354075019,
     "user": {
      "displayName": "Joseph Chan",
      "photoUrl": "",
      "userId": "02789172635000354089"
     },
     "user_tz": -480
    },
    "id": "uh1i7W_pE1R0",
    "outputId": "0039c7f2-f5c6-41eb-ab27-0474cdbc5f54"
   },
   "outputs": [
    {
     "name": "stdout",
     "output_type": "stream",
     "text": [
      "Epoch  0\n",
      "Waver in instrent that con a mith the canter the not to the krow of the deathit to as as as ene you d\n",
      "MCCOY: Whe don't fion. It you are and there of the wist his to wall sour.\n",
      "Hand is the seening be all stonter it\n",
      "FOVET: And the know whe all suptent of the the manse ponter the planser of whe a wan the priser the p\n",
      "PCOTT: I courder prices eredcored the the canled.\n",
      "Epoch  1\n",
      "Captain.\n",
      "TRELELI: Yes\n",
      "Jis contain to that the dake the trongers prowiting to the something to comment.\n",
      "ELATER: Not on the simpless\n",
      "Captain\n",
      "Epoch  2\n",
      "I'm going to starly pains will is a ala simond.\n",
      "SPOCK: They are not entile on the sursem. The Klingons me the field dight to be a srip.\n",
      "PIKE: I have the computer triggle\n",
      "HELLE: The like to you.\n",
      "Linutenant officer his mind contain\n",
      "Epoch  3\n",
      "DEELE: That's the captain could answer in the medical a ready and the some powers in the reather. The\n",
      "VANDA: I have to the hope that happened.\n",
      "BARSEL: In the satil seems in the ship with your strongs. Kirk.\n",
      "RARA: I couldn't get course the and your try to fire of there made in the stor your power to your shi\n",
      "Lieutenant Mister Spock.\n",
      "Epoch  4\n",
      "KIRK: You try to be all beams to the power is make a computer without a don't be sensors me and the o\n",
      "ZARA: What stay of me in there.  Mister Spock\n",
      "Mister Spock. I want to the ship is all the ship.\n",
      "LADITT: That has it is his the same can be beambyed the suggesting.\n",
      "PIKE: I'll have to changed to the inference there is the ship storm to the transporter of the logical\n",
      "Epoch  5\n",
      "LARUS: What is it\n",
      "Jim.\n",
      "GORNE: The attack\n",
      "Captain. I can't want to them.\n",
      "WELLAN: Stander for a decision to the our power to the post sensess a beamed where we do interesting \n",
      "Epoch  6\n",
      "KIRK: We're doing to get the tried. The Captain to the subition\n",
      "ANAN: All right\n",
      "VINA: All the protectors and I say that all right\n",
      "Captain.\n",
      "GARTH: You will see a medical and an all rides. It's the startion. You want to be the man all the int\n",
      "Epoch  7\n",
      "HEVE: Your computer before you want to fire. You're restrated of depleation us.\n",
      "PIKE: You said I have destroyed you? Well\n",
      "ELIAS: I am stranged a strence than you think you'll be a man and back to be a simple.\n",
      "KIRK: The ship.\n",
      "Lieutenant Doctor McCoy ships beamed you.\n",
      "Epoch  8\n",
      "ANAN: I shall go on the Captain will die. I don't believe the starship. I must be in a man so your pe\n",
      "I can see\n",
      "FELLINI: Bleashed for taken in the communications to see the more such the something all of the const\n",
      "OXMYX: A channel\n",
      "MCCOY: Well\n",
      "Epoch  9\n",
      "FELLEN: The transporters are life control back.\n",
      "VANNA: The sickbat.\n",
      "UHURA: This is a master by the ship is a very interesting me a parts of the first of the interpers th\n",
      "Mister Scott\n",
      "RAND: The planet propertions\n",
      "Epoch  10\n",
      "PIKE: There is a ship is the starship head to show the puncoll and make it is going to get anything i\n",
      "ANAN: They don't have to stay the transporter readings.\n",
      "Captain.\n",
      "PIKE: I will stay the area.\n",
      "MCCOY: I don't know the crew communicate the tomple to sense on my orders.\n",
      "Epoch  11\n",
      "JARIS:  You wanted to take this one hours.\n",
      "MCCOY: I can't do the ship is better\n",
      "I want to antimatter of the only the whole and simple the passis again.\n",
      "NOMAD: I have to go the engine of father of this planet a moment. Captain\n",
      "MCCOY: Well\n",
      "Epoch  12\n",
      "ANAN: A new ship on here. The chance\n",
      "ALICE 1: It's not the orders in party of the way.\n",
      "I would be say the destructions and the course\n",
      "BOY: Aye\n",
      "ROBERTA: I'm sorry\n",
      "Epoch  13\n",
      "VINA: You do not may be the computer before\n",
      "GELDER: You may be the ship\n",
      "FITHER ONE: I can't tell me what is it. The such transporter could seem to take the ship in the ship \n",
      "Captain.\n",
      "Captain.\n",
      "Epoch  14\n",
      "Mister Spock.\n",
      "WOMAN : I am a base to ask.\n",
      "GARTH: What is it the kill.\n",
      "PIKE: All be the possibly that we are any of the computer before we disturbed to ask you.\n",
      "Captain.\n",
      "Epoch  15\n",
      "UHURA: Aye\n",
      "ZENER: You will be ask up to the tribbles is not control of the transporter responsibility of the ast\n",
      "ERACREY: We will be continue that the last one is not a good of your functions\n",
      "GARTH: I must have to be search our men.\n",
      "NORMAN: I'm not going to do.\n",
      "Epoch  16\n",
      "ZARABETH: Yes\n",
      "ANAN: Well\n",
      "VINA: Well\n",
      "ZEELA: Maybe what they will not be a deal a man to survived\n",
      "BEM: The mounce of the doctor is a ship. I don't know where it is. I don't know what are you getting \n",
      "Epoch  17\n",
      "TRELANE: What is it\n",
      "Jim. There's no transporter course.\n",
      "SPOCK: Captain\n",
      "SPOCK: Captain\n",
      "PIKE: You have to prove the area\n",
      "Epoch  18\n",
      "ELAAN: I would be done.\n",
      "RAD: I have more they don't seem to help you\n",
      "GARTH: You're a readings on the same and and destroyed.\n",
      "TYREE: Nothing will you do to me. The reason\n",
      "RILA: You're not a man be the antical ensory human of the signal will a magna there and so it was a h\n",
      "Epoch  19\n",
      "UHURA: Aye\n",
      "Jim. He was a death of our mind\n",
      "Jim. If you do not speak to the Enterprise is the signal do we have in the same in the ship. I seem t\n",
      "ENGINEER: There is a dead ship is stranged one\n",
      "ONE: That's what I am sorry. It's not a long has human to the same and the far you can't be considere\n"
     ]
    },
    {
     "data": {
      "image/png": "[encoded data removed]",
      "text/plain": [
       "<Figure size 432x288 with 1 Axes>"
      ]
     },
     "metadata": {
      "tags": []
     },
     "output_type": "display_data"
    }
   ],
   "source": [
    "if __name__ == \"__main__\":\n",
    "    run()"
   ]
  },
  {
   "cell_type": "code",
   "execution_count": 0,
   "metadata": {
    "colab": {},
    "colab_type": "code",
    "id": "SE-pR-DaxvNu"
   },
   "outputs": [],
   "source": []
  }
 ],
 "metadata": {
  "accelerator": "GPU",
  "colab": {
   "authorship_tag": "ABX9TyMGTTpbi/oQFB/jYc9qVl+/",
   "name": "DL_HW6.ipynb",
   "provenance": []
  },
  "kernelspec": {
   "display_name": "Python 3",
   "language": "python",
   "name": "python3"
  },
  "language_info": {
   "codemirror_mode": {
    "name": "ipython",
    "version": 3
   },
   "file_extension": ".py",
   "mimetype": "text/x-python",
   "name": "python",
   "nbconvert_exporter": "python",
   "pygments_lexer": "ipython3",
   "version": "3.8.8"
  }
 },
 "nbformat": 4,
 "nbformat_minor": 1
}
